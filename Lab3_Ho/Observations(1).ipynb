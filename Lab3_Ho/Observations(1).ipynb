{
    "metadata": {
        "kernelspec": {
            "name": "python3",
            "display_name": "Python 3 (ipykernel)",
            "language": "python"
        }
    },
    "nbformat": 4,
    "nbformat_minor": 2,
    "cells": [
        {
            "attachments": {},
            "cell_type": "markdown",
            "metadata": {},
            "source": [
                "**In the example(s) that you run, what did you learn about how entropy helps us understand data? In your answer, use results that you got from running your code**"
            ]
        },
        {
            "attachments": {},
            "cell_type": "markdown",
            "metadata": {},
            "source": [
                "I did the assignment under supervised learning, and had gotten the foloowing results: The normalized entropy value was 0.672 and the average accuracy score 0.883. The normalized entropy value was a little higher than 0.5 so it is not throughly balanced. The average accuracy score is pretty high so the results with our current set of data is pretty accurate."
            ]
        },
        {
            "attachments": {},
            "cell_type": "markdown",
            "metadata": {},
            "source": [
                "**What was the hardest part of the session?**\n",
                ""
            ]
        },
        {
            "attachments": {},
            "cell_type": "markdown",
            "metadata": {},
            "source": [
                "The whole session was not necessarily hard, it is just that I didn't really know how to print out the tree file."
            ]
        },
        {
            "attachments": {},
            "cell_type": "markdown",
            "metadata": {},
            "source": [
                "**Please post a link to your public github repo**"
            ]
        },
        {
            "attachments": {},
            "cell_type": "markdown",
            "metadata": {},
            "source": [
                ""
            ]
        }
    ]
}
